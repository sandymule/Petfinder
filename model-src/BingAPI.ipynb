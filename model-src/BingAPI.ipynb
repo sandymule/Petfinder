{
 "cells": [
  {
   "cell_type": "code",
   "execution_count": 1,
   "metadata": {
    "collapsed": true,
    "run_control": {
     "frozen": false,
     "read_only": false
    }
   },
   "outputs": [],
   "source": [
    "import requests\n",
    "import pandas as pd"
   ]
  },
  {
   "cell_type": "code",
   "execution_count": 2,
   "metadata": {
    "collapsed": true,
    "run_control": {
     "frozen": false,
     "read_only": false
    }
   },
   "outputs": [],
   "source": [
    "url = 'https://api.cognitive.microsoft.com/bing/v5.0/images/search'\n",
    "\n",
    "my_headers = {#'Content-Type': 'multipart/form-data',\n",
    "              'Ocp-Apim-Subscription-Key':'460d6c291f3646f0864a9f4a8ecd8752'}"
   ]
  },
  {
   "cell_type": "code",
   "execution_count": 9,
   "metadata": {
    "collapsed": true,
    "run_control": {
     "frozen": false,
     "read_only": false
    }
   },
   "outputs": [],
   "source": [
    "dog_type = ['Labrador_Retriever', 'German_Shepherd', 'Poodle', 'Chihuahua', 'Golden_Retriever', 'Yorkshire_Terrier', 'Dachshund', 'Beagle', 'Boxer', 'Miniature_Schnauzer', 'Shih_Tzu', 'Bulldog', 'German_Spitz', 'English_Cocker_Spaniel', 'Cavalier_King_Charles_Spaniel', 'French_Bulldog', 'Pug', 'Rottweiler', 'English_Setter', 'Maltese', 'English_Springer_Spaniel', 'German_Shorthaired_Pointer', 'Staffordshire_Bull_Terrier', 'Border_Collie', 'Shetland_Sheepdog', 'Dobermann', 'West_Highland_White_Terrier', 'Bernese_Mountain_Dog', 'Great_Dane', 'Brittany_Spaniel']\n",
    "offsets = [0, 150, 300, 450]\n",
    "# for offset in offsets"
   ]
  },
  {
   "cell_type": "code",
   "execution_count": 10,
   "metadata": {
    "collapsed": false,
    "run_control": {
     "frozen": false,
     "read_only": false
    }
   },
   "outputs": [],
   "source": [
    "def createpic(search_term):\n",
    "    pictures_url = []\n",
    "    for offset in offsets:\n",
    "        my_params = {'q': search_term,\n",
    "                     'count': 150,\n",
    "                     'offset': offset,\n",
    "                     'mkt':'en-US',\n",
    "                     'safeSearch':'Moderate',\n",
    "                    }\n",
    "        r = requests.get(url, params = my_params, headers = my_headers)\n",
    "        print r.status_code\n",
    "        for result in r.json()['value']:\n",
    "            pictures_url.append(result['contentUrl'])\n",
    "    df = pd.DataFrame(pictures_url)\n",
    "    df.to_json('PictureData/' + search_term)"
   ]
  },
  {
   "cell_type": "code",
   "execution_count": 11,
   "metadata": {
    "collapsed": false,
    "run_control": {
     "frozen": false,
     "read_only": false
    }
   },
   "outputs": [
    {
     "name": "stdout",
     "output_type": "stream",
     "text": [
      "200\n",
      "200\n",
      "200\n",
      "200\n",
      "200\n",
      "200\n",
      "200\n",
      "200\n",
      "200\n",
      "200\n",
      "200\n",
      "200\n",
      "200\n",
      "200\n",
      "200\n",
      "200\n",
      "200\n",
      "200\n",
      "200\n",
      "200\n",
      "200\n",
      "200\n",
      "200\n",
      "200\n",
      "200\n",
      "200\n",
      "200\n",
      "200\n",
      "200\n",
      "200\n",
      "200\n",
      "200\n",
      "200\n",
      "200\n",
      "200\n",
      "200\n",
      "200\n",
      "200\n",
      "200\n",
      "200\n",
      "200\n",
      "200\n",
      "200\n",
      "200\n",
      "200\n",
      "200\n",
      "200\n",
      "200\n",
      "200\n",
      "200\n",
      "200\n",
      "200\n",
      "200\n",
      "200\n",
      "200\n",
      "200\n"
     ]
    }
   ],
   "source": [
    "for dog in dog_type:\n",
    "    createpic(dog)"
   ]
  },
  {
   "cell_type": "code",
   "execution_count": null,
   "metadata": {
    "collapsed": true,
    "run_control": {
     "frozen": false,
     "read_only": false
    }
   },
   "outputs": [],
   "source": []
  }
 ],
 "metadata": {
  "anaconda-cloud": {},
  "kernelspec": {
   "display_name": "Python [Root]",
   "language": "python",
   "name": "Python [Root]"
  },
  "language_info": {
   "codemirror_mode": {
    "name": "ipython",
    "version": 2
   },
   "file_extension": ".py",
   "mimetype": "text/x-python",
   "name": "python",
   "nbconvert_exporter": "python",
   "pygments_lexer": "ipython2",
   "version": "2.7.12"
  }
 },
 "nbformat": 4,
 "nbformat_minor": 0
}
