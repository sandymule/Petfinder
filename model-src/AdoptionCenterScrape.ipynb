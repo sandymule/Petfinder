{
 "cells": [
  {
   "cell_type": "code",
   "execution_count": 1,
   "metadata": {
    "collapsed": true,
    "run_control": {
     "frozen": false,
     "read_only": false
    }
   },
   "outputs": [],
   "source": [
    "import pandas as pd\n",
    "import numpy as np\n",
    "import matplotlib.pyplot as plt\n",
    "import seaborn as sns"
   ]
  },
  {
   "cell_type": "code",
   "execution_count": 2,
   "metadata": {
    "collapsed": false
   },
   "outputs": [],
   "source": [
    "from bs4 import BeautifulSoup\n",
    "import requests\n",
    "import time"
   ]
  },
  {
   "cell_type": "code",
   "execution_count": 3,
   "metadata": {
    "collapsed": true
   },
   "outputs": [],
   "source": [
    "from selenium import webdriver\n",
    "import time"
   ]
  },
  {
   "cell_type": "markdown",
   "metadata": {},
   "source": [
    "# East Bay SPCA"
   ]
  },
  {
   "cell_type": "code",
   "execution_count": 76,
   "metadata": {
    "collapsed": false
   },
   "outputs": [
    {
     "name": "stdout",
     "output_type": "stream",
     "text": [
      "[u'https://eastbayspcapets.shelterbuddy.com//photos/lostfound/18336.jpg', u'https://eastbayspcapets.shelterbuddy.com//photos/lostfound/18529.jpg', u'https://eastbayspcapets.shelterbuddy.com//photos/lostfound/18736.jpg', u'https://eastbayspcapets.shelterbuddy.com//photos/lostfound/18829.jpg', u'https://eastbayspcapets.shelterbuddy.com//photos/lostfound/18080.jpg', u'https://eastbayspcapets.shelterbuddy.com//photos/lostfound/18925.jpg', u'https://eastbayspcapets.shelterbuddy.com//photos/lostfound/18967.jpg', u'https://eastbayspcapets.shelterbuddy.com//photos/lostfound/18988.jpg', u'https://eastbayspcapets.shelterbuddy.com//photos/lostfound/19046.jpg', u'https://eastbayspcapets.shelterbuddy.com//photos/lostfound/18042.jpg', u'https://eastbayspcapets.shelterbuddy.com//photos/lostfound/19118.jpg', u'https://eastbayspcapets.shelterbuddy.com//photos/lostfound/19157.jpg', u'https://eastbayspcapets.shelterbuddy.com//photos/lostfound/19244.jpg', u'https://eastbayspcapets.shelterbuddy.com//photos/lostfound/18384.jpg', u'https://eastbayspcapets.shelterbuddy.com//photos/lostfound/19196.jpg', u'https://eastbayspcapets.shelterbuddy.com//photos/lostfound/19197.jpg', u'https://eastbayspcapets.shelterbuddy.com//photos/lostfound/19223.jpg', u'https://eastbayspcapets.shelterbuddy.com//photos/lostfound/16381.jpg', u'https://eastbayspcapets.shelterbuddy.com//photos/lostfound/19476.jpg', u'https://eastbayspcapets.shelterbuddy.com//photos/lostfound/19477.jpg', u'https://eastbayspcapets.shelterbuddy.com//photos/lostfound/19423.jpg', u'https://eastbayspcapets.shelterbuddy.com//photos/lostfound/19445.jpg', u'https://eastbayspcapets.shelterbuddy.com//photos/lostfound/19374.jpg', u'https://eastbayspcapets.shelterbuddy.com//photos/lostfound/19350.jpg', u'https://eastbayspcapets.shelterbuddy.com//photos/lostfound/18885.jpg', u'https://eastbayspcapets.shelterbuddy.com//photos/lostfound/19335.jpg', u'https://eastbayspcapets.shelterbuddy.com//photos/lostfound/19363.jpg', u'https://eastbayspcapets.shelterbuddy.com//photos/lostfound/19450.jpg', u'https://eastbayspcapets.shelterbuddy.com//photos/lostfound/19395.jpg', u'https://eastbayspcapets.shelterbuddy.com//photos/lostfound/17119.jpg', u'https://eastbayspcapets.shelterbuddy.com//photos/lostfound/19404.jpg', u'https://eastbayspcapets.shelterbuddy.com//photos/lostfound/17543.jpg', u'https://eastbayspcapets.shelterbuddy.com//photos/lostfound/18079.jpg']\n"
     ]
    }
   ],
   "source": [
    "output=pd.DataFrame()\n",
    "\n",
    "url='http://eastbayspca.org/adoptions/adopt-me/'\n",
    "\n",
    "browser=webdriver.Chrome()\n",
    "\n",
    "browser.get(url=url)\n",
    "time.sleep(10)\n",
    "\n",
    "list_elem = browser.find_elements_by_class_name('pet_image')\n",
    "\n",
    "img_link=[]\n",
    "for elem in list_elem:\n",
    "    image = elem.find_element_by_tag_name(\"img\")\n",
    "    img_link.append(image.get_attribute(\"src\"))\n",
    "print img_link"
   ]
  },
  {
   "cell_type": "markdown",
   "metadata": {},
   "source": [
    "# Rocket Dog Rescue"
   ]
  },
  {
   "cell_type": "code",
   "execution_count": 77,
   "metadata": {
    "collapsed": true
   },
   "outputs": [],
   "source": [
    "url = 'https://www.rocketdogrescue.org/adopt/adoptees/'\n",
    "browser=webdriver.Chrome()\n",
    "browser.get(url=url)\n",
    "time.sleep(10)\n",
    "list_elem = browser.find_elements_by_class_name('dog-list')"
   ]
  },
  {
   "cell_type": "code",
   "execution_count": 78,
   "metadata": {
    "collapsed": false
   },
   "outputs": [
    {
     "name": "stdout",
     "output_type": "stream",
     "text": [
      "[u'https://www.rocketdogrescue.org/wp-content/uploads/2016/11/Screen-shot-2016-11-21-at-7.54.53-PM-150x150.png', u'https://www.rocketdogrescue.org/wp-content/uploads/2016/11/Screen-shot-2016-11-20-at-5.23.00-PM-150x150.png', u'https://www.rocketdogrescue.org/wp-content/uploads/2016/11/Screen-shot-2016-11-19-at-10.50.03-PM-150x150.png', u'https://www.rocketdogrescue.org/wp-content/uploads/2016/11/Screen-shot-2016-11-11-at-5.01.37-PM-150x150.png', u'https://www.rocketdogrescue.org/wp-content/uploads/2016/11/Screen-shot-2016-11-18-at-10.58.54-PM-150x150.png', u'https://www.rocketdogrescue.org/wp-content/uploads/2016/11/Screen-shot-2016-11-18-at-10.55.29-PM-150x150.png', u'https://www.rocketdogrescue.org/wp-content/uploads/2016/11/Screen-shot-2016-11-18-at-10.44.32-PM-150x150.png', u'https://www.rocketdogrescue.org/wp-content/uploads/2016/11/Screen-shot-2016-11-15-at-9.18.52-PM-150x150.png', u'https://www.rocketdogrescue.org/wp-content/uploads/2016/11/Screen-shot-2016-11-14-at-12.37.34-AM-150x150.png', u'https://www.rocketdogrescue.org/wp-content/uploads/2016/11/Screen-shot-2016-11-12-at-2.39.16-PM-150x150.png', u'https://www.rocketdogrescue.org/wp-content/uploads/2016/11/Screen-shot-2016-11-12-at-2.33.10-PM-150x150.png', u'https://www.rocketdogrescue.org/wp-content/uploads/2016/11/Screen-shot-2016-11-12-at-2.28.23-PM-150x150.png', u'https://www.rocketdogrescue.org/wp-content/uploads/2016/11/Screen-shot-2016-11-07-at-10.11.47-PM-150x150.png', u'https://www.rocketdogrescue.org/wp-content/uploads/2016/11/Screen-shot-2016-11-14-at-12.25.54-AM-150x150.png', u'https://www.rocketdogrescue.org/wp-content/uploads/2016/06/Screen-shot-2016-06-10-at-8.54.19-PM-147x150.png', u'https://www.rocketdogrescue.org/wp-content/uploads/2016/10/Screen-shot-2016-10-09-at-6.08.04-PM-150x150.png', u'https://www.rocketdogrescue.org/wp-content/uploads/2016/10/Screen-shot-2016-10-22-at-8.58.58-PM-150x150.png', u'https://www.rocketdogrescue.org/wp-content/uploads/2016/10/Screen-shot-2016-10-28-at-10.52.31-PM-150x150.png', u'https://www.rocketdogrescue.org/wp-content/uploads/2016/10/Screen-shot-2016-10-16-at-9.55.49-PM-150x150.png', u'https://www.rocketdogrescue.org/wp-content/uploads/2016/07/Screen-shot-2016-07-10-at-10.12.53-PM-150x150.png', u'https://www.rocketdogrescue.org/wp-content/uploads/2016/10/Screen-shot-2016-10-25-at-9.53.57-PM-e1477457714857-150x150.png', u'https://www.rocketdogrescue.org/wp-content/uploads/2016/07/Screen-shot-2016-08-23-at-8.00.33-PM-150x150.png', u'https://www.rocketdogrescue.org/wp-content/uploads/2016/03/Screen-shot-2016-09-09-at-9.15.31-PM-150x150.png', u'https://www.rocketdogrescue.org/wp-content/uploads/2016/10/Screen-shot-2016-10-05-at-9.32.17-PM-150x150.png', u'https://www.rocketdogrescue.org/wp-content/uploads/2016/07/Screen-shot-2016-08-30-at-10.35.59-PM-150x150.png', u'https://www.rocketdogrescue.org/wp-content/uploads/2016/10/Screen-shot-2016-10-02-at-11.56.40-AM-150x150.png', u'https://www.rocketdogrescue.org/wp-content/uploads/2016/10/Screen-shot-2016-10-01-at-12.24.36-AM-150x150.png', u'https://www.rocketdogrescue.org/wp-content/uploads/2016/09/Screen-shot-2016-09-24-at-4.46.28-PM-150x150.png', u'https://www.rocketdogrescue.org/wp-content/uploads/2016/08/Screen-shot-2016-09-01-at-11.19.22-PM-150x150.png', u'https://www.rocketdogrescue.org/wp-content/uploads/2013/01/rsz_delilah_1-1.jpg', u'https://www.rocketdogrescue.org/wp-content/uploads/2016/05/Screen-shot-2016-05-17-at-8.08.59-PM-1-150x150.png', u'https://www.rocketdogrescue.org/wp-content/uploads/2013/06/LOKI-NEW-1024x681-150x150.jpg', u'https://www.rocketdogrescue.org/wp-content/uploads/2016/09/Screen-shot-2016-09-05-at-7.04.59-PM-150x150.png', u'https://www.rocketdogrescue.org/wp-content/uploads/2016/08/Screen-shot-2016-08-28-at-6.14.21-PM-150x150.png', u'https://www.rocketdogrescue.org/wp-content/uploads/2016/08/Screen-shot-2016-08-30-at-10.48.46-PM-150x150.png', u'https://www.rocketdogrescue.org/wp-content/uploads/2016/08/Screen-shot-2016-09-05-at-12.32.36-AM-150x150.png', u'https://www.rocketdogrescue.org/wp-content/uploads/2016/01/Screen-shot-2016-08-30-at-10.30.34-PM-150x150.png', u'https://www.rocketdogrescue.org/wp-content/uploads/2016/08/Screen-shot-2016-09-05-at-12.38.27-AM-150x150.png', u'https://www.rocketdogrescue.org/wp-content/uploads/2015/01/Screen-shot-2015-06-02-at-6.42.37-PM-150x150.png', u'https://www.rocketdogrescue.org/wp-content/uploads/2011/09/FRANKIE-THUMB.jpg', u'https://www.rocketdogrescue.org/wp-content/uploads/2016/06/Screen-shot-2016-06-19-at-10.37.02-PM-150x150.png', u'https://www.rocketdogrescue.org/wp-content/uploads/2016/02/Screen-shot-2016-02-15-at-11.10.43-PM-150x150.png', u'https://www.rocketdogrescue.org/wp-content/uploads/2015/05/Screen-shot-2015-08-25-at-9.56.03-PM-150x150.png', u'https://www.rocketdogrescue.org/wp-content/uploads/2016/04/Screen-shot-2016-04-24-at-10.45.36-PM-150x150.png', u'https://www.rocketdogrescue.org/wp-content/uploads/2016/02/Screen-shot-2016-02-11-at-8.12.17-PM-150x150.png', u'https://www.rocketdogrescue.org/wp-content/uploads/2011/03/MINI-21-150x150.jpg', u'https://www.rocketdogrescue.org/wp-content/uploads/2016/01/Screen-shot-2016-01-18-at-12.34.06-PM-150x150.png', u'https://www.rocketdogrescue.org/wp-content/uploads/2016/01/Screen-shot-2016-02-15-at-11.32.23-PM-150x150.png', u'https://www.rocketdogrescue.org/wp-content/uploads/2015/12/Screen-shot-2015-12-20-at-2.00.06-PM-150x150.png', u'https://www.rocketdogrescue.org/wp-content/uploads/2015/12/Screen-shot-2015-12-02-at-12.30.38-AM-150x150.png', u'https://www.rocketdogrescue.org/wp-content/uploads/2015/10/Screen-shot-2015-10-27-at-9.20.39-PM-150x150.png', u'https://www.rocketdogrescue.org/wp-content/uploads/2015/05/Screen-shot-2015-05-27-at-8.15.25-PM-150x150.png', u'https://www.rocketdogrescue.org/wp-content/uploads/2015/09/Screen-shot-2015-09-11-at-6.17.53-PM-150x150.png', u'https://www.rocketdogrescue.org/wp-content/uploads/2015/07/Screen-shot-2015-07-06-at-11.19.05-PM-150x150.png', u'https://www.rocketdogrescue.org/wp-content/uploads/2013/05/Screen-shot-2015-05-27-at-8.11.38-PM-150x150.png', u'https://www.rocketdogrescue.org/wp-content/uploads/2015/03/Screen-shot-2015-06-02-at-7.13.33-PM-150x150.png', u'https://www.rocketdogrescue.org/wp-content/uploads/2014/12/Screen-shot-2015-01-26-at-12.22.22-AM-150x150.png', u'https://www.rocketdogrescue.org/wp-content/uploads/2015/01/Screen-shot-2015-05-27-at-8.42.01-PM-150x150.png', u'https://www.rocketdogrescue.org/wp-content/uploads/2014/11/Screen-shot-2014-11-09-at-11.12.20-PM-150x150.png', u'https://www.rocketdogrescue.org/wp-content/uploads/2013/08/puff-one-1024x681-150x150.jpg', u'https://www.rocketdogrescue.org/wp-content/uploads/2013/04/juju-1-685x1024-150x150.jpg', u'https://www.rocketdogrescue.org/wp-content/uploads/2012/09/STELLA-RAE-1-1024x7681-150x150.jpg']\n"
     ]
    }
   ],
   "source": [
    "img_link = []\n",
    "for elem in list_elem:\n",
    "    tag = elem.find_elements_by_tag_name('li')\n",
    "    for item in tag:\n",
    "        image = item.find_element_by_tag_name(\"img\")\n",
    "        img_link.append(image.get_attribute(\"src\"))\n",
    "print img_link"
   ]
  },
  {
   "cell_type": "markdown",
   "metadata": {},
   "source": [
    "# Oakland Animal Services"
   ]
  },
  {
   "cell_type": "code",
   "execution_count": 79,
   "metadata": {
    "collapsed": true
   },
   "outputs": [],
   "source": [
    "url = 'http://www.oaklandanimalservices.org/adopt/dogs/'\n",
    "browser=webdriver.Chrome()\n",
    "browser.get(url=url)\n",
    "time.sleep(10)\n",
    "list_elem = browser.find_elements_by_class_name('animalCell')"
   ]
  },
  {
   "cell_type": "code",
   "execution_count": 80,
   "metadata": {
    "collapsed": false
   },
   "outputs": [
    {
     "name": "stdout",
     "output_type": "stream",
     "text": [
      "[u'http://petportal.oaklandanimalservices.org/files/thumbnail.animalProfile_22957.jpeg', u'http://petportal.oaklandanimalservices.org/files/thumbnail.animalProfile_21409.jpeg', u'http://petportal.oaklandanimalservices.org/files/thumbnail.animalProfile_22734.jpeg', u'http://petportal.oaklandanimalservices.org/files/thumbnail.animalProfile_22947.jpeg', u'http://petportal.oaklandanimalservices.org/files/thumbnail.animalProfile_23300.jpeg', u'http://petportal.oaklandanimalservices.org/files/thumbnail.animalProfile_23462.jpeg', u'http://petportal.oaklandanimalservices.org/files/thumbnail.animalProfile_20706.jpeg', u'http://petportal.oaklandanimalservices.org/files/thumbnail.animalProfile_23078.jpeg', u'http://petportal.oaklandanimalservices.org/files/thumbnail.animalProfile_23307.jpeg', u'http://petportal.oaklandanimalservices.org/files/thumbnail.animalProfile_21014.jpeg', u'http://petportal.oaklandanimalservices.org/files/thumbnail.animalProfile_23302.jpeg', u'http://petportal.oaklandanimalservices.org/files/thumbnail.animalProfile_22945.jpeg', u'http://petportal.oaklandanimalservices.org/files/thumbnail.animalProfile_10375.jpeg', u'http://petportal.oaklandanimalservices.org/files/thumbnail.animalProfile_22385.jpeg', u'http://petportal.oaklandanimalservices.org/files/thumbnail.animalProfile_23143.jpeg', u'http://petportal.oaklandanimalservices.org/files/thumbnail.animalProfile_19788.jpeg', u'http://petportal.oaklandanimalservices.org/files/thumbnail.animalProfile_19395.jpeg', u'http://petportal.oaklandanimalservices.org/files/thumbnail.animalProfile_14403.jpeg', u'http://petportal.oaklandanimalservices.org/files/thumbnail.animalProfile_21032.jpeg', u'http://petportal.oaklandanimalservices.org/files/thumbnail.animalProfile_22176.jpeg', u'http://petportal.oaklandanimalservices.org/files/thumbnail.animalProfile_20012.jpeg', u'http://petportal.oaklandanimalservices.org/files/thumbnail.animalProfile_23323.jpeg', u'http://petportal.oaklandanimalservices.org/files/thumbnail.animalProfile_22571.jpeg', u'http://petportal.oaklandanimalservices.org/files/thumbnail.animalProfile_22772.jpg', u'http://petportal.oaklandanimalservices.org/files/thumbnail.animalProfile_21172.jpeg', u'http://petportal.oaklandanimalservices.org/files/thumbnail.animalProfile_20529.jpeg', u'http://petportal.oaklandanimalservices.org/files/thumbnail.animalProfile_16700.jpeg', u'http://petportal.oaklandanimalservices.org/files/thumbnail.animalProfile_21018.jpeg', u'http://petportal.oaklandanimalservices.org/files/thumbnail.animalProfile_23305.jpeg', u'http://petportal.oaklandanimalservices.org/files/thumbnail.animalProfile_22394.jpeg', u'http://petportal.oaklandanimalservices.org/files/thumbnail.animalProfile_22368.jpeg', u'http://petportal.oaklandanimalservices.org/files/thumbnail.animalProfile_23010.jpeg', u'http://petportal.oaklandanimalservices.org/files/thumbnail.animalProfile_23081.jpeg', u'http://petportal.oaklandanimalservices.org/files/thumbnail.animalProfile_20698.jpeg', u'http://petportal.oaklandanimalservices.org/files/thumbnail.animalProfile_23299.jpeg', u'http://petportal.oaklandanimalservices.org/files/thumbnail.animalProfile_23444.jpeg', u'http://petportal.oaklandanimalservices.org/files/thumbnail.animalProfile_23472.jpeg', u'http://petportal.oaklandanimalservices.org/files/thumbnail.animalProfile_21633.jpeg', u'http://petportal.oaklandanimalservices.org/files/thumbnail.animalProfile_23063.jpeg', u'http://petportal.oaklandanimalservices.org/files/thumbnail.animalProfile_18742.jpeg', u'http://petportal.oaklandanimalservices.org/files/thumbnail.animalProfile_21937.jpeg', u'http://petportal.oaklandanimalservices.org/files/thumbnail.animalProfile_23376.jpg', u'http://petportal.oaklandanimalservices.org/files/thumbnail.animalProfile_23095.jpeg', u'http://petportal.oaklandanimalservices.org/files/thumbnail.animalProfile_23447.jpeg', u'http://petportal.oaklandanimalservices.org/files/thumbnail.animalProfile_21916.jpeg', u'http://petportal.oaklandanimalservices.org/files/thumbnail.animalProfile_20703.jpeg', u'http://petportal.oaklandanimalservices.org/files/thumbnail.animalProfile_15353.jpeg', u'http://petportal.oaklandanimalservices.org/files/thumbnail.animalProfile_18584.jpeg', u'http://petportal.oaklandanimalservices.org/files/thumbnail.animalProfile_18183.jpeg', u'http://petportal.oaklandanimalservices.org/files/thumbnail.animalProfile_8703.jpeg', u'http://petportal.oaklandanimalservices.org/files/thumbnail.animalProfile_22563.jpeg']\n"
     ]
    }
   ],
   "source": [
    "img_link=[]\n",
    "for elem in list_elem:\n",
    "    image = elem.find_element_by_tag_name(\"img\")\n",
    "    img_link.append(image.get_attribute(\"src\"))\n",
    "print img_link"
   ]
  },
  {
   "cell_type": "markdown",
   "metadata": {},
   "source": [
    "# San Francisco SPCA Mission Adoption Center"
   ]
  },
  {
   "cell_type": "code",
   "execution_count": 66,
   "metadata": {
    "collapsed": true
   },
   "outputs": [],
   "source": [
    "url = 'https://www.sfspca.org/adoptions/dogs/'\n",
    "browser=webdriver.Chrome()\n",
    "browser.get(url=url)\n",
    "time.sleep(10)\n",
    "list_elem = browser.find_elements_by_class_name('view-content')"
   ]
  },
  {
   "cell_type": "code",
   "execution_count": 69,
   "metadata": {
    "collapsed": false
   },
   "outputs": [],
   "source": [
    "for elem in list_elem:\n",
    "    tag = elem.find_elements_by_tag_name('a')"
   ]
  },
  {
   "cell_type": "code",
   "execution_count": 70,
   "metadata": {
    "collapsed": false
   },
   "outputs": [
    {
     "name": "stdout",
     "output_type": "stream",
     "text": [
      "[u'https://www.sfspca.org/sites/default/files/styles/sf_animal_thumb_3col/public/images/animals/34024902-photo.png?itok=KW9V43P3', u'https://www.sfspca.org/sites/default/files/styles/sf_animal_thumb_3col/public/images/animals/34024912-photo.png?itok=cMZnFk5m', u'https://www.sfspca.org/sites/default/files/styles/sf_animal_thumb_3col/public/images/animals/34007786-4dfe43d7.jpg?itok=ykCzhXzH', u'https://www.sfspca.org/sites/default/files/styles/sf_animal_thumb_3col/public/images/animals/34007765-f0034212.jpg?itok=hClrv9Db', u'https://www.sfspca.org/sites/default/files/styles/sf_animal_thumb_3col/public/images/animals/33750117-a81e7366.jpg?itok=oZiHPLOR', u'https://www.sfspca.org/sites/default/files/styles/sf_animal_thumb_3col/public/images/animals/33980397-7bc4fd38.jpg?itok=_12p8G6P', u'https://www.sfspca.org/sites/default/files/styles/sf_animal_thumb_3col/public/images/animals/33980290-010f7ea9.jpg?itok=osx5rpKZ', u'https://www.sfspca.org/sites/default/files/styles/sf_animal_thumb_3col/public/images/animals/33980275-82d00ceb.jpg?itok=kgWe1u8c', u'https://www.sfspca.org/sites/default/files/styles/sf_animal_thumb_3col/public/images/animals/33980223-5ece379c.jpg?itok=phkZLFQo', u'https://www.sfspca.org/sites/default/files/styles/sf_animal_thumb_3col/public/images/animals/33980238-photo.png?itok=29QVGRiG', u'https://www.sfspca.org/sites/default/files/styles/sf_animal_thumb_3col/public/images/animals/33980230-photo.png?itok=RtL0Z5u7', u'https://www.sfspca.org/sites/default/files/styles/sf_animal_thumb_3col/public/images/animals/33969022-a472314f.jpg?itok=uKwQVZ0F', u'https://www.sfspca.org/sites/default/files/styles/sf_animal_thumb_3col/public/images/animals/33614843-6bbe4fa0.jpg?itok=wM3Zy_ce', u'https://www.sfspca.org/sites/default/files/styles/sf_animal_thumb_3col/public/images/animals/33964650-68d2d854.jpg?itok=8iSt2Tu7', u'https://www.sfspca.org/sites/default/files/styles/sf_animal_thumb_3col/public/images/animals/31856949-7e435817.jpg?itok=9Y15dsqI', u'https://www.sfspca.org/sites/default/files/styles/sf_animal_thumb_3col/public/images/animals/33945854-1b94938d.jpg?itok=E5Q1kR-1', u'https://www.sfspca.org/sites/default/files/styles/sf_animal_thumb_3col/public/images/animals/24855977-2c67bc9b.jpg?itok=c1QLills', u'https://www.sfspca.org/sites/default/files/styles/sf_animal_thumb_3col/public/images/animals/33328913-1c3179bc.jpg?itok=osK45y2A']\n"
     ]
    }
   ],
   "source": [
    "img_link = []\n",
    "for item in tag:\n",
    "    try:\n",
    "        image = item.find_element_by_tag_name(\"img\")\n",
    "        #print image.get_attribute('src')\n",
    "        img_link.append(image.get_attribute(\"src\"))\n",
    "    except:\n",
    "        pass\n",
    "print img_link"
   ]
  },
  {
   "cell_type": "markdown",
   "metadata": {},
   "source": [
    "# PHS/SPCA"
   ]
  },
  {
   "cell_type": "code",
   "execution_count": null,
   "metadata": {
    "collapsed": true
   },
   "outputs": [],
   "source": [
    "url = 'https://www.peninsulahumanesociety.org/adopt/dog.html/'\n",
    "browser=webdriver.Chrome()\n",
    "browser.get(url=url)\n",
    "time.sleep(10)\n",
    "list_elem = browser.find_elements_by_class_name('view-content')\n"
   ]
  },
  {
   "cell_type": "markdown",
   "metadata": {},
   "source": [
    "# Berkeley Humane"
   ]
  },
  {
   "cell_type": "code",
   "execution_count": null,
   "metadata": {
    "collapsed": true
   },
   "outputs": [],
   "source": []
  }
 ],
 "metadata": {
  "anaconda-cloud": {},
  "kernelspec": {
   "display_name": "Python [Root]",
   "language": "python",
   "name": "Python [Root]"
  },
  "language_info": {
   "codemirror_mode": {
    "name": "ipython",
    "version": 2
   },
   "file_extension": ".py",
   "mimetype": "text/x-python",
   "name": "python",
   "nbconvert_exporter": "python",
   "pygments_lexer": "ipython2",
   "version": "2.7.12"
  }
 },
 "nbformat": 4,
 "nbformat_minor": 0
}
