{
 "cells": [
  {
   "cell_type": "markdown",
   "metadata": {
    "run_control": {
     "frozen": false,
     "read_only": false
    }
   },
   "source": [
    "# Train_Test_Split Using Bing API Pictures"
   ]
  },
  {
   "cell_type": "code",
   "execution_count": 8,
   "metadata": {
    "collapsed": true,
    "run_control": {
     "frozen": false,
     "read_only": false
    }
   },
   "outputs": [],
   "source": [
    "import os\n",
    "from glob import glob"
   ]
  },
  {
   "cell_type": "code",
   "execution_count": 47,
   "metadata": {
    "collapsed": false,
    "run_control": {
     "frozen": false,
     "read_only": false
    }
   },
   "outputs": [],
   "source": [
    "#First remove all the erroneous pictures (ones below 10 KB)\n",
    "#Rename all train files to .png to be compatible with VGG Model\n",
    "\n",
    "# TRAIN_PATH = \"./Pictures/Train/\"\n",
    "# VALID_PATH = \"./Pictures/Validation/\"\n",
    "# for dirname in os.listdir(TRAIN_PATH):\n",
    "#     if dirname[0] != \".\":\n",
    "#         filenames = os.listdir(TRAIN_PATH + dirname)\n",
    "#         for filename in filenames:\n",
    "#             full_path = TRAIN_PATH + dirname + \"/\" + filename\n",
    "#             if os.stat(full_path).st_size < 10000:\n",
    "#                 os.remove(full_path)\n",
    "        \n",
    "#         train_files, test_files = train_test_split(filenames, test_size=.2, random_state = 42)\n",
    "#         for filename in train_files:\n",
    "#             if filename[-4:] != '.png':\n",
    "#                 train_filepath = TRAIN_PATH + dirname + \"/\" + filename\n",
    "#                 train_filepath_new = train_filepath + '.png'\n",
    "# #                 print(train_filepath, train_filepath_new)\n",
    "#                 os.rename(train_filepath, train_filepath_new)\n",
    "            \n",
    "#         for filename in test_files:\n",
    "#             train_filepath = TRAIN_PATH + dirname + \"/\" + filename\n",
    "#             valid_filepath = VALID_PATH + dirname + \"/\" + filename + '.png'\n",
    "# #             print(train_filepath, valid_filepath)\n",
    "#             os.rename(train_filepath, valid_filepath)"
   ]
  },
  {
   "cell_type": "code",
   "execution_count": 19,
   "metadata": {
    "collapsed": false,
    "run_control": {
     "frozen": false,
     "read_only": false
    }
   },
   "outputs": [],
   "source": [
    "# The splitting between the training and the test set\n",
    "\n",
    "\n",
    "# TRAIN_PATH = \"./Pictures/Train/\"\n",
    "# VALID_PATH = \"./Pictures/Validation/\"\n",
    "# target_labels = {}\n",
    "# for dirname in os.listdir(TRAIN_PATH):\n",
    "#     if dirname[0] != \".\":\n",
    "#         train_files = os.listdir(TRAIN_PATH + dirname)\n",
    "#         valid_files = os.listdir(VALID_PATH + dirname)\n",
    "#         target_labels[dirname] = (len(train_files), len(valid_files))"
   ]
  },
  {
   "cell_type": "code",
   "execution_count": 39,
   "metadata": {
    "collapsed": true,
    "run_control": {
     "frozen": false,
     "read_only": false
    }
   },
   "outputs": [],
   "source": [
    "##Rename all test files to .png to be compatible with VGG Model\n",
    "\n",
    "# TRAIN_PATH = \"Pictures/Train/\"\n",
    "# VALID_PATH = \"Pictures/Validation/\"\n",
    "\n",
    "# for dirname in os.listdir(VALID_PATH):\n",
    "#     if dirname[0] != \".\":\n",
    "#         filenames = os.listdir(VALID_PATH + dirname)\n",
    "#         for filename in filenames:\n",
    "#             full_path = VALID_PATH + dirname + \"/\" + filename\n",
    "#             os.rename(full_path, full_path+'.png')"
   ]
  },
  {
   "cell_type": "code",
   "execution_count": 20,
   "metadata": {
    "collapsed": false,
    "run_control": {
     "frozen": false,
     "read_only": false
    }
   },
   "outputs": [
    {
     "data": {
      "text/plain": [
       "{'Beagle': (467, 117),\n",
       " 'Bernese_Mountain_Dog': (432, 109),\n",
       " 'Border_Collie': (450, 113),\n",
       " 'Boxer': (471, 118),\n",
       " 'Brittany_Spaniel': (464, 117),\n",
       " 'Bulldog': (457, 115),\n",
       " 'Cavalier_King_Charles_Spaniel': (456, 115),\n",
       " 'Chihuahua': (467, 118),\n",
       " 'Dachshund': (470, 118),\n",
       " 'Dobermann': (449, 114),\n",
       " 'English_Cocker_Spaniel': (450, 113),\n",
       " 'English_Setter': (444, 110),\n",
       " 'English_Springer_Spaniel': (447, 113),\n",
       " 'French_Bulldog': (465, 117),\n",
       " 'German_Shepherd': (464, 117),\n",
       " 'German_Shorthaired_Pointer': (453, 114),\n",
       " 'German_Spitz': (419, 104),\n",
       " 'Golden_Retriever': (463, 117),\n",
       " 'Great_Dane': (467, 118),\n",
       " 'Labrador_Retriever': (469, 118),\n",
       " 'Maltese': (464, 117),\n",
       " 'Miniature_Schnauzer': (467, 117),\n",
       " 'Poodle': (466, 116),\n",
       " 'Pug': (460, 116),\n",
       " 'Rottweiler': (460, 116),\n",
       " 'Shetland_Sheepdog': (445, 112),\n",
       " 'Shih_Tzu': (464, 115),\n",
       " 'Staffordshire_Bull_Terrier': (431, 107),\n",
       " 'West_Highland_White_Terrier': (427, 107),\n",
       " 'Yorkshire_Terrier': (467, 117)}"
      ]
     },
     "execution_count": 20,
     "metadata": {},
     "output_type": "execute_result"
    }
   ],
   "source": [
    "target_labels"
   ]
  },
  {
   "cell_type": "code",
   "execution_count": 21,
   "metadata": {
    "collapsed": false,
    "run_control": {
     "frozen": false,
     "read_only": false
    }
   },
   "outputs": [],
   "source": [
    "#count the total number in the training set and in the test set\n",
    "\n",
    "all_trains = 0\n",
    "all_test = 0\n",
    "for key in target_labels.keys():\n",
    "    train, test = target_labels[key]\n",
    "    all_trains += train\n",
    "    all_test += test"
   ]
  },
  {
   "cell_type": "code",
   "execution_count": 22,
   "metadata": {
    "collapsed": false,
    "run_control": {
     "frozen": false,
     "read_only": false
    }
   },
   "outputs": [
    {
     "data": {
      "text/plain": [
       "13675"
      ]
     },
     "execution_count": 22,
     "metadata": {},
     "output_type": "execute_result"
    }
   ],
   "source": [
    "all_trains"
   ]
  },
  {
   "cell_type": "code",
   "execution_count": 23,
   "metadata": {
    "collapsed": false,
    "run_control": {
     "frozen": false,
     "read_only": false
    }
   },
   "outputs": [
    {
     "data": {
      "text/plain": [
       "3435"
      ]
     },
     "execution_count": 23,
     "metadata": {},
     "output_type": "execute_result"
    }
   ],
   "source": [
    "all_test"
   ]
  },
  {
   "cell_type": "code",
   "execution_count": 32,
   "metadata": {
    "collapsed": true,
    "run_control": {
     "frozen": false,
     "read_only": false
    }
   },
   "outputs": [],
   "source": [
    "#Formatting the label to be compatible with VGG model\n",
    "\n",
    "train_labels = []\n",
    "test_labels = []\n",
    "i = 0\n",
    "for key in sorted(target_labels.keys()):\n",
    "    train_labels.extend([i]*target_labels[key][0])\n",
    "    test_labels.extend([i]*target_labels[key][1])\n",
    "    i+=1"
   ]
  },
  {
   "cell_type": "code",
   "execution_count": 37,
   "metadata": {
    "collapsed": false,
    "run_control": {
     "frozen": false,
     "read_only": false
    }
   },
   "outputs": [],
   "source": [
    "#Picking the labels(species) of each dog\n",
    "\n",
    "import pickle\n",
    "with open('.VGG/puppy_labels.pkl','wb') as f:\n",
    "    pickle.dump([train_labels, test_labels], f)"
   ]
  },
  {
   "cell_type": "code",
   "execution_count": 24,
   "metadata": {
    "collapsed": false,
    "run_control": {
     "frozen": false,
     "read_only": false
    }
   },
   "outputs": [
    {
     "data": {
      "text/plain": [
       "30"
      ]
     },
     "execution_count": 24,
     "metadata": {},
     "output_type": "execute_result"
    }
   ],
   "source": [
    "len(target_labels)"
   ]
  },
  {
   "cell_type": "code",
   "execution_count": null,
   "metadata": {
    "collapsed": true,
    "run_control": {
     "frozen": false,
     "read_only": false
    }
   },
   "outputs": [],
   "source": []
  }
 ],
 "metadata": {
  "anaconda-cloud": {},
  "kernelspec": {
   "display_name": "Python [Root]",
   "language": "python",
   "name": "Python [Root]"
  },
  "language_info": {
   "codemirror_mode": {
    "name": "ipython",
    "version": 2
   },
   "file_extension": ".py",
   "mimetype": "text/x-python",
   "name": "python",
   "nbconvert_exporter": "python",
   "pygments_lexer": "ipython2",
   "version": "2.7.12"
  }
 },
 "nbformat": 4,
 "nbformat_minor": 0
}
