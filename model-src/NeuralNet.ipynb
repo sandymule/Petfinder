{
 "cells": [
  {
   "cell_type": "markdown",
   "metadata": {
    "run_control": {
     "frozen": false,
     "read_only": false
    }
   },
   "source": [
    "# Creating the Neural Network Using Base and Top Model"
   ]
  },
  {
   "cell_type": "code",
   "execution_count": 1,
   "metadata": {
    "collapsed": false,
    "run_control": {
     "frozen": false,
     "read_only": false
    }
   },
   "outputs": [
    {
     "name": "stderr",
     "output_type": "stream",
     "text": [
      "Using TensorFlow backend.\n"
     ]
    }
   ],
   "source": [
    "import os\n",
    "import h5py\n",
    "import numpy as np\n",
    "from keras.preprocessing.image import ImageDataGenerator\n",
    "from keras.models import Sequential, load_model\n",
    "from keras.layers import Convolution2D, MaxPooling2D, ZeroPadding2D\n",
    "from keras.layers import Activation, Dropout, Flatten, Dense\n",
    "\n",
    "# path to the model weights file.\n",
    "weights_path = './VGG/vgg16_weights.h5'\n",
    "top_model_weights_path = './VGG/bottleneck_fc_model.h5'\n",
    "# dimensions of our images.\n",
    "img_width, img_height = 150, 150\n",
    "\n",
    "train_data_dir = './Pictures/Train'\n",
    "validation_data_dir = './Pictures/Validation'\n",
    "nb_train_samples = 13675\n",
    "nb_validation_samples = 3435\n",
    "nb_epoch = 10\n"
   ]
  },
  {
   "cell_type": "code",
   "execution_count": null,
   "metadata": {
    "collapsed": true,
    "run_control": {
     "frozen": false,
     "read_only": false
    }
   },
   "outputs": [],
   "source": [
    "#Locate the files that do not open properly\n",
    "\n",
    "# import PIL\n",
    "# from glob import glob\n",
    "\n",
    "# for filename in glob(validation_data_dir + \"/*/*.png\"):\n",
    "#     try:\n",
    "#         _ = PIL.Image.open(filename)\n",
    "#         _.load()\n",
    "#     except IOError:\n",
    "#         print(filename)"
   ]
  },
  {
   "cell_type": "code",
   "execution_count": null,
   "metadata": {
    "collapsed": true,
    "run_control": {
     "frozen": false,
     "read_only": false
    }
   },
   "outputs": [],
   "source": [
    "#Remove files that do not open properly\n",
    "\n",
    "# from glob import glob\n",
    "# import os\n",
    "\n",
    "# for filename in glob(train_data_dir + \"/*/.DS_Store\"):\n",
    "#     try:\n",
    "#         print str(filename)\n",
    "# #         os.remove(filename)\n",
    "#     except IOError:\n",
    "#         pass"
   ]
  },
  {
   "cell_type": "markdown",
   "metadata": {
    "run_control": {
     "frozen": false,
     "read_only": false
    }
   },
   "source": [
    "# Base Model"
   ]
  },
  {
   "cell_type": "code",
   "execution_count": 2,
   "metadata": {
    "collapsed": true,
    "run_control": {
     "frozen": false,
     "read_only": false
    }
   },
   "outputs": [],
   "source": [
    "from keras import backend as K\n",
    "K.set_image_dim_ordering('th')"
   ]
  },
  {
   "cell_type": "code",
   "execution_count": 3,
   "metadata": {
    "collapsed": false,
    "run_control": {
     "frozen": false,
     "read_only": false
    }
   },
   "outputs": [
    {
     "name": "stdout",
     "output_type": "stream",
     "text": [
      "Model loaded.\n"
     ]
    }
   ],
   "source": [
    "datagen = ImageDataGenerator(rescale=1./255)\n",
    "\n",
    "# build the VGG16 network\n",
    "base_model = Sequential()\n",
    "base_model.add(ZeroPadding2D((1, 1), input_shape=(3, img_width, img_height)))\n",
    "\n",
    "base_model.add(Convolution2D(64, 3, 3, activation='relu', name='conv1_1'))\n",
    "base_model.add(ZeroPadding2D((1, 1)))\n",
    "base_model.add(Convolution2D(64, 3, 3, activation='relu', name='conv1_2'))\n",
    "base_model.add(MaxPooling2D((2, 2), strides=(2, 2)))\n",
    "\n",
    "base_model.add(ZeroPadding2D((1, 1)))\n",
    "base_model.add(Convolution2D(128, 3, 3, activation='relu', name='conv2_1'))\n",
    "base_model.add(ZeroPadding2D((1, 1)))\n",
    "base_model.add(Convolution2D(128, 3, 3, activation='relu', name='conv2_2'))\n",
    "base_model.add(MaxPooling2D((2, 2), strides=(2, 2)))\n",
    "\n",
    "base_model.add(ZeroPadding2D((1, 1)))\n",
    "base_model.add(Convolution2D(256, 3, 3, activation='relu', name='conv3_1'))\n",
    "base_model.add(ZeroPadding2D((1, 1)))\n",
    "base_model.add(Convolution2D(256, 3, 3, activation='relu', name='conv3_2'))\n",
    "base_model.add(ZeroPadding2D((1, 1)))\n",
    "base_model.add(Convolution2D(256, 3, 3, activation='relu', name='conv3_3'))\n",
    "base_model.add(MaxPooling2D((2, 2), strides=(2, 2)))\n",
    "\n",
    "base_model.add(ZeroPadding2D((1, 1)))\n",
    "base_model.add(Convolution2D(512, 3, 3, activation='relu', name='conv4_1'))\n",
    "base_model.add(ZeroPadding2D((1, 1)))\n",
    "base_model.add(Convolution2D(512, 3, 3, activation='relu', name='conv4_2'))\n",
    "base_model.add(ZeroPadding2D((1, 1)))\n",
    "base_model.add(Convolution2D(512, 3, 3, activation='relu', name='conv4_3'))\n",
    "base_model.add(MaxPooling2D((2, 2), strides=(2, 2)))\n",
    "\n",
    "base_model.add(ZeroPadding2D((1, 1)))\n",
    "base_model.add(Convolution2D(512, 3, 3, activation='relu', name='conv5_1'))\n",
    "base_model.add(ZeroPadding2D((1, 1)))\n",
    "base_model.add(Convolution2D(512, 3, 3, activation='relu', name='conv5_2'))\n",
    "base_model.add(ZeroPadding2D((1, 1)))\n",
    "base_model.add(Convolution2D(512, 3, 3, activation='relu', name='conv5_3'))\n",
    "base_model.add(MaxPooling2D((2, 2), strides=(2, 2)))\n",
    "\n",
    "# load the weights of the VGG16 networks\n",
    "# (trained on ImageNet, won the ILSVRC competition in 2014)\n",
    "# note: when there is a complete match between your model definition\n",
    "# and your weight savefile, you can simply call model.load_weights(filename)\n",
    "assert os.path.exists(weights_path), 'Model weights not found (see \"weights_path\" variable in script).'\n",
    "f = h5py.File(weights_path)\n",
    "for k in range(f.attrs['nb_layers']):\n",
    "    if k >= len(base_model.layers):\n",
    "        # we don't look at the last (fully-connected) layers in the savefile\n",
    "        break\n",
    "    g = f['layer_{}'.format(k)]\n",
    "    weights = [g['param_{}'.format(p)] for p in range(g.attrs['nb_params'])]\n",
    "    base_model.layers[k].set_weights(weights)\n",
    "base_model.save('./VGG/base_model.h5')\n",
    "f.close()\n",
    "print('Model loaded.')"
   ]
  },
  {
   "cell_type": "code",
   "execution_count": null,
   "metadata": {
    "collapsed": true,
    "run_control": {
     "frozen": false,
     "read_only": false
    }
   },
   "outputs": [],
   "source": [
    "#generator for training data\n",
    "\n",
    "# generator = datagen.flow_from_directory(\n",
    "#         train_data_dir,\n",
    "#         target_size=(img_width, img_height),\n",
    "#         batch_size=32,\n",
    "#         class_mode=None,\n",
    "#         shuffle=False)\n",
    "# bottleneck_features_train = model.predict_generator(generator, nb_train_samples)\n",
    "# np.save(open('./VGG/bottleneck_features_train.npy', 'w'), bottleneck_features_train)"
   ]
  },
  {
   "cell_type": "code",
   "execution_count": null,
   "metadata": {
    "collapsed": true,
    "run_control": {
     "frozen": false,
     "read_only": false
    }
   },
   "outputs": [],
   "source": [
    "#generator for test data\n",
    "\n",
    "# generator = datagen.flow_from_directory(\n",
    "#          validation_data_dir,\n",
    "#          target_size=(img_width, img_height),\n",
    "#          batch_size=32,\n",
    "#          class_mode=None,\n",
    "#          shuffle=False)\n",
    "# bottleneck_features_validation = model.predict_generator(generator, nb_validation_samples)\n",
    "# np.save(open('./VGG/bottleneck_features_validation.npy', 'w'), bottleneck_features_validation)\n"
   ]
  },
  {
   "cell_type": "markdown",
   "metadata": {
    "run_control": {
     "frozen": false,
     "read_only": false
    }
   },
   "source": [
    "# Top Model"
   ]
  },
  {
   "cell_type": "code",
   "execution_count": 4,
   "metadata": {
    "collapsed": true,
    "run_control": {
     "frozen": false,
     "read_only": false
    }
   },
   "outputs": [],
   "source": [
    "#loading in train and test labels\n",
    "\n",
    "import pickle\n",
    "with open('puppy_labels.pkl','rb') as f:\n",
    "    train_labels, test_labels = pickle.load(f)"
   ]
  },
  {
   "cell_type": "code",
   "execution_count": 5,
   "metadata": {
    "collapsed": false,
    "run_control": {
     "frozen": false,
     "read_only": false
    }
   },
   "outputs": [],
   "source": [
    "from sklearn.preprocessing import LabelEncoder\n",
    "from keras.utils.np_utils import to_categorical"
   ]
  },
  {
   "cell_type": "code",
   "execution_count": 6,
   "metadata": {
    "collapsed": true,
    "run_control": {
     "frozen": false,
     "read_only": false
    }
   },
   "outputs": [],
   "source": [
    "encoded_train_labels = LabelEncoder().fit_transform(train_labels)\n",
    "encoded_train_labels = to_categorical(encoded_train_labels,30)\n",
    "\n",
    "encoded_test_labels = LabelEncoder().fit_transform(test_labels)\n",
    "encoded_test_labels = to_categorical(encoded_test_labels,30)"
   ]
  },
  {
   "cell_type": "code",
   "execution_count": 7,
   "metadata": {
    "collapsed": false,
    "run_control": {
     "frozen": false,
     "read_only": false
    }
   },
   "outputs": [
    {
     "data": {
      "text/plain": [
       "(3435, 30)"
      ]
     },
     "execution_count": 7,
     "metadata": {},
     "output_type": "execute_result"
    }
   ],
   "source": [
    "encoded_train_labels.shape\n",
    "encoded_test_labels.shape"
   ]
  },
  {
   "cell_type": "code",
   "execution_count": 8,
   "metadata": {
    "collapsed": false,
    "run_control": {
     "frozen": false,
     "read_only": false
    }
   },
   "outputs": [
    {
     "name": "stdout",
     "output_type": "stream",
     "text": [
      "Train on 13675 samples, validate on 3435 samples\n",
      "Epoch 1/10\n",
      "13675/13675 [==============================] - 3s - loss: 3.0587 - acc: 0.1361 - val_loss: 2.3547 - val_acc: 0.3144\n",
      "Epoch 2/10\n",
      "13675/13675 [==============================] - 3s - loss: 2.4908 - acc: 0.2550 - val_loss: 2.0508 - val_acc: 0.3869\n",
      "Epoch 3/10\n",
      "13675/13675 [==============================] - 3s - loss: 2.3107 - acc: 0.3038 - val_loss: 1.8855 - val_acc: 0.4638\n",
      "Epoch 4/10\n",
      "13675/13675 [==============================] - 3s - loss: 2.1669 - acc: 0.3440 - val_loss: 1.8222 - val_acc: 0.4780\n",
      "Epoch 5/10\n",
      "13675/13675 [==============================] - 3s - loss: 2.0631 - acc: 0.3755 - val_loss: 1.7097 - val_acc: 0.5031\n",
      "Epoch 6/10\n",
      "13675/13675 [==============================] - 3s - loss: 1.9831 - acc: 0.3994 - val_loss: 1.8449 - val_acc: 0.4524\n",
      "Epoch 7/10\n",
      "13675/13675 [==============================] - 3s - loss: 1.9243 - acc: 0.4192 - val_loss: 1.7282 - val_acc: 0.4984\n",
      "Epoch 8/10\n",
      "13675/13675 [==============================] - 3s - loss: 1.8563 - acc: 0.4409 - val_loss: 1.6456 - val_acc: 0.5263\n",
      "Epoch 9/10\n",
      "13675/13675 [==============================] - 3s - loss: 1.7790 - acc: 0.4631 - val_loss: 1.6379 - val_acc: 0.5316\n",
      "Epoch 10/10\n",
      "13675/13675 [==============================] - 3s - loss: 1.7495 - acc: 0.4735 - val_loss: 1.6695 - val_acc: 0.5229\n"
     ]
    }
   ],
   "source": [
    "train_data = np.load(open('./VGG/bottleneck_features_train.npy'))\n",
    "train_labels = np.array(encoded_train_labels)\n",
    "\n",
    "validation_data = np.load(open('./VGG/bottleneck_features_validation.npy'))\n",
    "validation_labels = np.array(encoded_test_labels)\n",
    "\n",
    "top_model = Sequential()\n",
    "top_model.add(Flatten(input_shape=train_data.shape[1:]))\n",
    "top_model.add(Dense(256, activation='relu'))\n",
    "top_model.add(Dropout(0.5))\n",
    "top_model.add(Dense(30, activation='softmax'))\n",
    "\n",
    "top_model.compile(optimizer='rmsprop', loss='categorical_crossentropy', metrics=['accuracy'])\n",
    "\n",
    "top_model.fit(train_data, train_labels,\n",
    "      nb_epoch=nb_epoch, batch_size=32,\n",
    "      validation_data=(validation_data, validation_labels))\n",
    "top_model.save_weights(top_model_weights_path)\n",
    "\n",
    "#make sure to save the model itself in addition to the weights"
   ]
  },
  {
   "cell_type": "markdown",
   "metadata": {
    "run_control": {
     "frozen": false,
     "read_only": false
    }
   },
   "source": [
    "# Confusion Matrix"
   ]
  },
  {
   "cell_type": "code",
   "execution_count": 9,
   "metadata": {
    "collapsed": false,
    "run_control": {
     "frozen": false,
     "read_only": false
    }
   },
   "outputs": [
    {
     "name": "stderr",
     "output_type": "stream",
     "text": [
      "/home/icarus/anaconda2/lib/python2.7/site-packages/matplotlib/font_manager.py:273: UserWarning: Matplotlib is building the font cache using fc-list. This may take a moment.\n",
      "  warnings.warn('Matplotlib is building the font cache using fc-list. This may take a moment.')\n"
     ]
    }
   ],
   "source": [
    "import matplotlib.pyplot as plt\n",
    "from sklearn.metrics import confusion_matrix\n",
    "\n",
    "%matplotlib inline"
   ]
  },
  {
   "cell_type": "code",
   "execution_count": 11,
   "metadata": {
    "collapsed": false,
    "run_control": {
     "frozen": false,
     "read_only": false
    }
   },
   "outputs": [],
   "source": [
    "y_pred = top_model.predict(validation_data)"
   ]
  },
  {
   "cell_type": "code",
   "execution_count": 12,
   "metadata": {
    "collapsed": true,
    "run_control": {
     "frozen": false,
     "read_only": false
    }
   },
   "outputs": [],
   "source": [
    "y_test_confus = []\n",
    "y_pred_confus = []\n",
    "for elem in encoded_test_labels:\n",
    "    y_test_confus.append(list(elem).index(max(elem)))\n",
    "for item in y_pred:\n",
    "    y_pred_confus.append(list(item).index(max(item)))\n",
    "    "
   ]
  },
  {
   "cell_type": "code",
   "execution_count": 13,
   "metadata": {
    "collapsed": false,
    "run_control": {
     "frozen": false,
     "read_only": false
    }
   },
   "outputs": [],
   "source": [
    "confus_mat = confusion_matrix(y_test_confus, y_pred_confus)"
   ]
  },
  {
   "cell_type": "code",
   "execution_count": 14,
   "metadata": {
    "collapsed": false,
    "run_control": {
     "frozen": false,
     "read_only": false
    }
   },
   "outputs": [
    {
     "data": {
      "text/plain": [
       "<matplotlib.image.AxesImage at 0x7f4514746450>"
      ]
     },
     "execution_count": 14,
     "metadata": {},
     "output_type": "execute_result"
    },
    {
     "data": {
      "image/png": "[encoded data removed]",
      "text/plain": [
       "<matplotlib.figure.Figure at 0x7f45147971d0>"
      ]
     },
     "metadata": {},
     "output_type": "display_data"
    }
   ],
   "source": [
    "plt.matshow(confus_mat)"
   ]
  },
  {
   "cell_type": "markdown",
   "metadata": {
    "collapsed": true,
    "run_control": {
     "frozen": false,
     "read_only": false
    }
   },
   "source": [
    "# Obtaining Vectors for Test Set"
   ]
  },
  {
   "cell_type": "code",
   "execution_count": 2,
   "metadata": {
    "collapsed": false,
    "run_control": {
     "frozen": false,
     "read_only": false
    }
   },
   "outputs": [
    {
     "name": "stdout",
     "output_type": "stream",
     "text": [
      "(Subtensor{int64}.0, Elemwise{add,no_inplace}.0, Elemwise{add,no_inplace}.0, Subtensor{int64}.0)\n",
      "(Subtensor{int64}.0, Elemwise{add,no_inplace}.0, Elemwise{add,no_inplace}.0, Subtensor{int64}.0)\n",
      "(Subtensor{int64}.0, Elemwise{add,no_inplace}.0, Elemwise{add,no_inplace}.0, Subtensor{int64}.0)\n",
      "(Subtensor{int64}.0, Elemwise{add,no_inplace}.0, Elemwise{add,no_inplace}.0, Subtensor{int64}.0)\n",
      "(Subtensor{int64}.0, Elemwise{add,no_inplace}.0, Elemwise{add,no_inplace}.0, Subtensor{int64}.0)\n",
      "(Subtensor{int64}.0, Elemwise{add,no_inplace}.0, Elemwise{add,no_inplace}.0, Subtensor{int64}.0)\n",
      "(Subtensor{int64}.0, Elemwise{add,no_inplace}.0, Elemwise{add,no_inplace}.0, Subtensor{int64}.0)\n",
      "(Subtensor{int64}.0, Elemwise{add,no_inplace}.0, Elemwise{add,no_inplace}.0, Subtensor{int64}.0)\n",
      "(Subtensor{int64}.0, Elemwise{add,no_inplace}.0, Elemwise{add,no_inplace}.0, Subtensor{int64}.0)\n",
      "(Subtensor{int64}.0, Elemwise{add,no_inplace}.0, Elemwise{add,no_inplace}.0, Subtensor{int64}.0)\n",
      "(Subtensor{int64}.0, Elemwise{add,no_inplace}.0, Elemwise{add,no_inplace}.0, Subtensor{int64}.0)\n",
      "(Subtensor{int64}.0, Elemwise{add,no_inplace}.0, Elemwise{add,no_inplace}.0, Subtensor{int64}.0)\n",
      "(Subtensor{int64}.0, Elemwise{add,no_inplace}.0, Elemwise{add,no_inplace}.0, Subtensor{int64}.0)\n"
     ]
    },
    {
     "name": "stderr",
     "output_type": "stream",
     "text": [
      "/Users/Sam/anaconda2/lib/python2.7/site-packages/keras/models.py:136: UserWarning: No training configuration found in save file: the model was *not* compiled. Compile it manually.\n",
      "  warnings.warn('No training configuration found in save file: '\n"
     ]
    }
   ],
   "source": [
    "base_model = load_model('./VGG/base_model.h5')\n",
    "top_model = load_model('./VGG/top_model.h5')"
   ]
  },
  {
   "cell_type": "code",
   "execution_count": 3,
   "metadata": {
    "collapsed": false,
    "run_control": {
     "frozen": false,
     "read_only": false
    }
   },
   "outputs": [],
   "source": [
    "import cv2"
   ]
  },
  {
   "cell_type": "code",
   "execution_count": 4,
   "metadata": {
    "collapsed": false,
    "run_control": {
     "frozen": false,
     "read_only": false
    }
   },
   "outputs": [
    {
     "ename": "error",
     "evalue": "/tmp/opencv-20161020-7399-1yrk4nm/opencv-2.4.13.1/modules/imgproc/src/imgwarp.cpp:1968: error: (-215) ssize.area() > 0 in function resize\n",
     "output_type": "error",
     "traceback": [
      "\u001b[0;31m---------------------------------------------------------------------------\u001b[0m",
      "\u001b[0;31merror\u001b[0m                                     Traceback (most recent call last)",
      "\u001b[0;32m<ipython-input-4-d6e6f7da6800>\u001b[0m in \u001b[0;36m<module>\u001b[0;34m()\u001b[0m\n\u001b[0;32m----> 1\u001b[0;31m \u001b[0mimg\u001b[0m \u001b[0;34m=\u001b[0m \u001b[0mcv2\u001b[0m\u001b[0;34m.\u001b[0m\u001b[0mresize\u001b[0m\u001b[0;34m(\u001b[0m\u001b[0mcv2\u001b[0m\u001b[0;34m.\u001b[0m\u001b[0mimread\u001b[0m\u001b[0;34m(\u001b[0m\u001b[0;34m'Validation/Chihuahua/10.png'\u001b[0m\u001b[0;34m)\u001b[0m\u001b[0;34m,\u001b[0m \u001b[0;34m(\u001b[0m\u001b[0;36m150\u001b[0m\u001b[0;34m,\u001b[0m \u001b[0;36m150\u001b[0m\u001b[0;34m)\u001b[0m\u001b[0;34m)\u001b[0m\u001b[0;34m.\u001b[0m\u001b[0mastype\u001b[0m\u001b[0;34m(\u001b[0m\u001b[0mnp\u001b[0m\u001b[0;34m.\u001b[0m\u001b[0mfloat32\u001b[0m\u001b[0;34m)\u001b[0m\u001b[0;34m\u001b[0m\u001b[0m\n\u001b[0m\u001b[1;32m      2\u001b[0m \u001b[0;34m\u001b[0m\u001b[0m\n\u001b[1;32m      3\u001b[0m \u001b[0mimg\u001b[0m\u001b[0;34m[\u001b[0m\u001b[0;34m:\u001b[0m\u001b[0;34m,\u001b[0m\u001b[0;34m:\u001b[0m\u001b[0;34m,\u001b[0m\u001b[0;36m0\u001b[0m\u001b[0;34m]\u001b[0m \u001b[0;34m-=\u001b[0m \u001b[0;36m103.939\u001b[0m\u001b[0;34m\u001b[0m\u001b[0m\n\u001b[1;32m      4\u001b[0m \u001b[0mimg\u001b[0m\u001b[0;34m[\u001b[0m\u001b[0;34m:\u001b[0m\u001b[0;34m,\u001b[0m\u001b[0;34m:\u001b[0m\u001b[0;34m,\u001b[0m\u001b[0;36m1\u001b[0m\u001b[0;34m]\u001b[0m \u001b[0;34m-=\u001b[0m \u001b[0;36m116.779\u001b[0m\u001b[0;34m\u001b[0m\u001b[0m\n\u001b[1;32m      5\u001b[0m \u001b[0mimg\u001b[0m\u001b[0;34m[\u001b[0m\u001b[0;34m:\u001b[0m\u001b[0;34m,\u001b[0m\u001b[0;34m:\u001b[0m\u001b[0;34m,\u001b[0m\u001b[0;36m2\u001b[0m\u001b[0;34m]\u001b[0m \u001b[0;34m-=\u001b[0m \u001b[0;36m123.68\u001b[0m\u001b[0;34m\u001b[0m\u001b[0m\n",
      "\u001b[0;31merror\u001b[0m: /tmp/opencv-20161020-7399-1yrk4nm/opencv-2.4.13.1/modules/imgproc/src/imgwarp.cpp:1968: error: (-215) ssize.area() > 0 in function resize\n"
     ]
    }
   ],
   "source": [
    "img = cv2.resize(cv2.imread('Validation/Chihuahua/10.png'), (150, 150)).astype(np.float32)\n",
    "\n",
    "img[:,:,0] -= 103.939\n",
    "img[:,:,1] -= 116.779\n",
    "img[:,:,2] -= 123.68\n",
    "img = img.transpose((2,0,1))\n",
    "img = np.expand_dims(img, axis=0)"
   ]
  },
  {
   "cell_type": "code",
   "execution_count": 12,
   "metadata": {
    "collapsed": false,
    "run_control": {
     "frozen": false,
     "read_only": false
    }
   },
   "outputs": [],
   "source": [
    "bottleneck_features_test = base_model.predict(img)"
   ]
  },
  {
   "cell_type": "code",
   "execution_count": 14,
   "metadata": {
    "collapsed": false,
    "run_control": {
     "frozen": false,
     "read_only": false
    }
   },
   "outputs": [],
   "source": [
    "train_data = np.load(open('./VGG/bottleneck_features_train.npy'))\n",
    "test_model = Sequential()\n",
    "test_model.add(Flatten(input_shape=train_data.shape[1:]))\n",
    "test_model.add(Dense(256, activation='relu', weights=top_model.layers[1].get_weights()))"
   ]
  },
  {
   "cell_type": "code",
   "execution_count": 15,
   "metadata": {
    "collapsed": true,
    "run_control": {
     "frozen": false,
     "read_only": false
    }
   },
   "outputs": [],
   "source": [
    "activation_vectors = test_model.predict(bottleneck_features_test)"
   ]
  },
  {
   "cell_type": "code",
   "execution_count": 16,
   "metadata": {
    "collapsed": false,
    "run_control": {
     "frozen": false,
     "read_only": false
    }
   },
   "outputs": [
    {
     "data": {
      "text/plain": [
       "(1, 256)"
      ]
     },
     "execution_count": 16,
     "metadata": {},
     "output_type": "execute_result"
    }
   ],
   "source": [
    "activation_vectors.shape"
   ]
  },
  {
   "cell_type": "code",
   "execution_count": null,
   "metadata": {
    "collapsed": true,
    "run_control": {
     "frozen": false,
     "read_only": false
    }
   },
   "outputs": [],
   "source": []
  }
 ],
 "metadata": {
  "anaconda-cloud": {},
  "kernelspec": {
   "display_name": "Python [Root]",
   "language": "python",
   "name": "Python [Root]"
  },
  "language_info": {
   "codemirror_mode": {
    "name": "ipython",
    "version": 2
   },
   "file_extension": ".py",
   "mimetype": "text/x-python",
   "name": "python",
   "nbconvert_exporter": "python",
   "pygments_lexer": "ipython2",
   "version": "2.7.12"
  }
 },
 "nbformat": 4,
 "nbformat_minor": 0
}
